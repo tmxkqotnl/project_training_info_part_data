{
 "cells": [
  {
   "cell_type": "code",
   "execution_count": 1,
   "metadata": {},
   "outputs": [],
   "source": [
    "import init\n",
    "from controller import get_all_training_list"
   ]
  },
  {
   "cell_type": "code",
   "execution_count": 2,
   "metadata": {},
   "outputs": [],
   "source": [
    "# full\n",
    "# opts = {\n",
    "#         \"authKey\": \"serviceKey\",\n",
    "#         \"returnType\": \"XML\",  # only XML avaliable\n",
    "#         \"outType\": \"1\",  # 1 - list, 2 - detail\n",
    "#         \"pageNum\": \"1\",  # maximum 1000\n",
    "#         \"pageSize\": \"100\",  # maximum 100\n",
    "        \n",
    "#         \"srchTraArea1\":\"\", # 훈련지역 대분류\n",
    "#         \"srchTraArea2\":\"\", # 훈련지역 중분류\n",
    "        \n",
    "#         \"srchKeco1\":\"\", # 훈련분야 대분류\n",
    "#         \"srchKeco2\":\"\", # 훈련분야 중분류\n",
    "#         \"srchKeco3\":\"\", # 훈련분야 소분류\n",
    "        \n",
    "#         \"crseTracseSe\":\"\", # 훈련유형\n",
    "        \n",
    "#         \"srchTraGbn\":\"\", # 훈련구분코드\n",
    "#         \"srchTraType\":\"\", # 훈련종류\n",
    "        \n",
    "#         \"sort\": \"ASC\",\n",
    "#         \"sortCol\": \"TR_STT_DT\",  # TOT_FXNUM - 모집인원, TR_STT_DT - 훈련시작일, TR_NM_i - 훈련과정명\n",
    "#         \"srchTraStDt\": \"19700101\",  # 훈련 시작일\n",
    "#         \"srchTraEndDt\": \"20221231\",  # 훈련 종료일\n",
    "# }\n"
   ]
  },
  {
   "cell_type": "code",
   "execution_count": 3,
   "metadata": {},
   "outputs": [],
   "source": [
    "a = get_all_training_list()"
   ]
  },
  {
   "cell_type": "code",
   "execution_count": 4,
   "metadata": {},
   "outputs": [
    {
     "name": "stdout",
     "output_type": "stream",
     "text": [
      "<class 'pandas.core.frame.DataFrame'>\n",
      "Int64Index: 171185 entries, 0 to 99\n",
      "Data columns (total 20 columns):\n",
      " #   Column   Non-Null Count   Dtype \n",
      "---  ------   --------------   ----- \n",
      " 0   주소       171185 non-null  object\n",
      " 1   컨텐츠      171185 non-null  object\n",
      " 2   수강비      171185 non-null  object\n",
      " 3   등급       171185 non-null  object\n",
      " 4   훈련기관 코드  171185 non-null  object\n",
      " 5   NCS 코드   171185 non-null  object\n",
      " 6   실제 훈련비   171185 non-null  object\n",
      " 7   수강신청 인원  171185 non-null  object\n",
      " 8   정원       171185 non-null  object\n",
      " 9   제목       171185 non-null  object\n",
      " 10  부제목      171185 non-null  object\n",
      " 11  주관부처     171185 non-null  object\n",
      " 12  전화번호     171185 non-null  object\n",
      " 13  훈련시작일자   171185 non-null  object\n",
      " 14  훈련종료일자   171185 non-null  object\n",
      " 15  훈련대상     171185 non-null  object\n",
      " 16  훈련구분     171185 non-null  object\n",
      " 17  훈련기관ID   171185 non-null  object\n",
      " 18  훈련과정ID   171185 non-null  object\n",
      " 19  훈련과정 순차  171185 non-null  object\n",
      "dtypes: object(20)\n",
      "memory usage: 27.4+ MB\n"
     ]
    }
   ],
   "source": [
    "a.info()"
   ]
  },
  {
   "cell_type": "code",
   "execution_count": 5,
   "metadata": {},
   "outputs": [],
   "source": [
    "a.to_csv('../files/for_job_hunter/구직자훈련과정.csv',index=False)"
   ]
  }
 ],
 "metadata": {
  "interpreter": {
   "hash": "89e9e4d100ee396fb86bdfc23fa40e805c5038d98839eff899c219b3daa0a7a9"
  },
  "kernelspec": {
   "display_name": "Python 3.9.12 ('project')",
   "language": "python",
   "name": "python3"
  },
  "language_info": {
   "codemirror_mode": {
    "name": "ipython",
    "version": 3
   },
   "file_extension": ".py",
   "mimetype": "text/x-python",
   "name": "python",
   "nbconvert_exporter": "python",
   "pygments_lexer": "ipython3",
   "version": "3.9.12"
  },
  "orig_nbformat": 4
 },
 "nbformat": 4,
 "nbformat_minor": 2
}
