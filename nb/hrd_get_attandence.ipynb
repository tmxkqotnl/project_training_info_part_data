{
 "cells": [
  {
   "cell_type": "markdown",
   "metadata": {},
   "source": [
    "# 작동하지 않음"
   ]
  },
  {
   "cell_type": "code",
   "execution_count": 26,
   "metadata": {},
   "outputs": [],
   "source": [
    "import init"
   ]
  },
  {
   "cell_type": "code",
   "execution_count": 27,
   "metadata": {},
   "outputs": [],
   "source": [
    "from Class.url import URL\n",
    "from const import TRAINING_FOR_JOB_HUNTER\n",
    "import os\n",
    "\n",
    "params = {\n",
    "    'authKey':os.getenv('HRD_API_KEY'),\n",
    "    'returnType':'XML',\n",
    "    'srchTrprId':'AIG20210000346620',\n",
    "    'outType':'2',\n",
    "    'srchTrprDegr':'2',\n",
    "    'srchTorgId':'undefined' # undefined, student_detail\n",
    "}\n",
    "\n",
    "url = URL()\n",
    "url.set_url(TRAINING_FOR_JOB_HUNTER['attendence_info'])\n",
    "url.set_parameter(params)"
   ]
  },
  {
   "cell_type": "code",
   "execution_count": 28,
   "metadata": {},
   "outputs": [],
   "source": [
    "from controller.url_controller import get_api_response\n",
    "\n",
    "res = get_api_response(url)\n",
    "res"
   ]
  }
 ],
 "metadata": {
  "interpreter": {
   "hash": "89e9e4d100ee396fb86bdfc23fa40e805c5038d98839eff899c219b3daa0a7a9"
  },
  "kernelspec": {
   "display_name": "Python 3.9.12 ('project')",
   "language": "python",
   "name": "python3"
  },
  "language_info": {
   "codemirror_mode": {
    "name": "ipython",
    "version": 3
   },
   "file_extension": ".py",
   "mimetype": "text/x-python",
   "name": "python",
   "nbconvert_exporter": "python",
   "pygments_lexer": "ipython3",
   "version": "3.9.12"
  },
  "orig_nbformat": 4
 },
 "nbformat": 4,
 "nbformat_minor": 2
}
