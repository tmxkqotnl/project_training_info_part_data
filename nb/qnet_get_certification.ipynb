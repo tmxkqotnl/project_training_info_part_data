{
 "cells": [
  {
   "cell_type": "code",
   "execution_count": 45,
   "metadata": {},
   "outputs": [],
   "source": [
    "import init\n",
    "\n",
    "import os\n",
    "import bs4\n",
    "import lxml\n",
    "import requests\n",
    "import pandas as pd\n",
    "import xml.etree.ElementTree as et"
   ]
  },
  {
   "cell_type": "code",
   "execution_count": 46,
   "metadata": {},
   "outputs": [],
   "source": [
    "url = ''.join(['http://openapi.q-net.or.kr/api/service/rest/InquiryListNationalQualifcationSVC%20/getList?serviceKey=', os.getenv('HRDK_API_KEY')])\n",
    "\n",
    "response = requests.get(url)\n",
    "content = response.text"
   ]
  },
  {
   "cell_type": "code",
   "execution_count": null,
   "metadata": {},
   "outputs": [],
   "source": [
    "'''\n",
    "qualgbcd : 자격구분\n",
    "qualgbnm : 자격구분명\n",
    "seriescd : 계열코드\n",
    "seriesnm : 계열명\n",
    "jmcd : 종목코드\n",
    "jmfldnm : 종목명\n",
    "obligfldcd : 대직무분야코드\n",
    "obligfldnm : 대직무분야명\n",
    "mdobligfldcd : 중직무분야코드\n",
    "mdobligfldnm : 중직무분야명\n",
    "\n",
    "'''"
   ]
  },
  {
   "cell_type": "code",
   "execution_count": 47,
   "metadata": {},
   "outputs": [
    {
     "name": "stdout",
     "output_type": "stream",
     "text": [
      "[]\n"
     ]
    }
   ],
   "source": [
    "xmlobj = bs4.BeautifulSoup(content, 'lxml-xml')\n",
    "rows = xmlobj.findAll('item')\n",
    "print(rows)"
   ]
  },
  {
   "cell_type": "code",
   "execution_count": 48,
   "metadata": {},
   "outputs": [
    {
     "ename": "IndexError",
     "evalue": "list index out of range",
     "output_type": "error",
     "traceback": [
      "\u001b[1;31m---------------------------------------------------------------------------\u001b[0m",
      "\u001b[1;31mIndexError\u001b[0m                                Traceback (most recent call last)",
      "\u001b[1;32mc:\\Users\\82108\\Desktop\\Development\\nb\\hrdk_get_certification.ipynb Cell 5'\u001b[0m in \u001b[0;36m<cell line: 1>\u001b[1;34m()\u001b[0m\n\u001b[1;32m----> <a href='vscode-notebook-cell:/c%3A/Users/82108/Desktop/Development/nb/hrdk_get_certification.ipynb#ch0000006?line=0'>1</a>\u001b[0m columns \u001b[39m=\u001b[39m rows[\u001b[39m0\u001b[39;49m]\u001b[39m.\u001b[39mfind_all()\n\u001b[0;32m      <a href='vscode-notebook-cell:/c%3A/Users/82108/Desktop/Development/nb/hrdk_get_certification.ipynb#ch0000006?line=1'>2</a>\u001b[0m \u001b[39mprint\u001b[39m(columns)\n",
      "\u001b[1;31mIndexError\u001b[0m: list index out of range"
     ]
    }
   ],
   "source": [
    "columns = rows[0].find_all()\n",
    "print(columns)"
   ]
  },
  {
   "cell_type": "code",
   "execution_count": null,
   "metadata": {},
   "outputs": [],
   "source": []
  }
 ],
 "metadata": {
  "interpreter": {
   "hash": "cb7ad046b15337535afd3f0ca86cbadfb9970a7be5883ae8f3e2ed9ec8bf2a7d"
  },
  "kernelspec": {
   "display_name": "Python 3.9.12 ('jihyun')",
   "language": "python",
   "name": "python3"
  },
  "language_info": {
   "codemirror_mode": {
    "name": "ipython",
    "version": 3
   },
   "file_extension": ".py",
   "mimetype": "text/x-python",
   "name": "python",
   "nbconvert_exporter": "python",
   "pygments_lexer": "ipython3",
   "version": "3.9.12"
  },
  "orig_nbformat": 4
 },
 "nbformat": 4,
 "nbformat_minor": 2
}
