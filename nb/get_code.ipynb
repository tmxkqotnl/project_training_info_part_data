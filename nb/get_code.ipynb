{
 "cells": [
  {
   "cell_type": "code",
   "execution_count": 21,
   "metadata": {},
   "outputs": [],
   "source": [
    "import init\n",
    "\n",
    "import requests\n",
    "import bs4 \n",
    "import pandas as pd\n",
    "\n",
    "import os\n",
    "from dotenv import load_dotenv\n",
    "\n",
    "from libs import dict_to_query\n",
    "from const import COMMON_CODE"
   ]
  },
  {
   "cell_type": "code",
   "execution_count": 14,
   "metadata": {},
   "outputs": [
    {
     "data": {
      "text/plain": [
       "True"
      ]
     },
     "execution_count": 14,
     "metadata": {},
     "output_type": "execute_result"
    }
   ],
   "source": [
    "load_dotenv(dotenv_path='./.env',verbose=True)"
   ]
  },
  {
   "cell_type": "code",
   "execution_count": 15,
   "metadata": {},
   "outputs": [],
   "source": [
    "base_url = 'https://www.hrd.go.kr/jsp/HRDP/HRDPO00/HRDPOA90/HRDPOA90_1.jsp'"
   ]
  },
  {
   "cell_type": "code",
   "execution_count": 18,
   "metadata": {},
   "outputs": [],
   "source": [
    "opt = {\n",
    "    'authKey':os.getenv('HRD_API_KEY'),\n",
    "    'returnType':'XML',\n",
    "    'srchType':'None',\n",
    "    'outType':'1'\n",
    "}"
   ]
  },
  {
   "cell_type": "code",
   "execution_count": 19,
   "metadata": {},
   "outputs": [],
   "source": [
    "# 훈련지역 중분류 코드를 제외한 나머지 공통코드\n",
    "\n",
    "for k,v in COMMON_CODE.items():\n",
    "    opt['srchType'] = v\n",
    "    \n",
    "    res = requests.get('?'.join([base_url,dict_to_query(opt)]))\n",
    "    xml = bs4.BeautifulSoup(res.content,'lxml-xml')\n",
    "    \n",
    "    c_name = [i.text for i in xml.findAll('rsltName')]\n",
    "    c_val = [i.text for i in xml.findAll('rsltCode')]\n",
    "    \n",
    "    if c_name.__len__() != c_val.__len__():\n",
    "        continue\n",
    "    \n",
    "    file_name = '../files/common_code/'+'_'.join(k.split())+'.csv'\n",
    "    pd.DataFrame({\n",
    "        '코드값':c_val,\n",
    "        '코드명':c_name\n",
    "        }).to_csv(file_name,index=False)\n"
   ]
  },
  {
   "cell_type": "code",
   "execution_count": 20,
   "metadata": {},
   "outputs": [],
   "source": [
    "# 훈련지역 중분류 코드 누락으로 수작업\n",
    "\n",
    "import json\n",
    "\n",
    "with open('../files/훈련지역_중분류_코드.json','rb') as f:\n",
    "    data = json.load(f)\n",
    "    pd.DataFrame({\n",
    "        '코드값':data['코드값'],\n",
    "        '코드명':data['코드명'],\n",
    "        }).to_csv('../files/common_code/훈련지역_중분류_코드.csv',index=False)"
   ]
  }
 ],
 "metadata": {
  "interpreter": {
   "hash": "89e9e4d100ee396fb86bdfc23fa40e805c5038d98839eff899c219b3daa0a7a9"
  },
  "kernelspec": {
   "display_name": "Python 3.9.12 ('project')",
   "language": "python",
   "name": "python3"
  },
  "language_info": {
   "codemirror_mode": {
    "name": "ipython",
    "version": 3
   },
   "file_extension": ".py",
   "mimetype": "text/x-python",
   "name": "python",
   "nbconvert_exporter": "python",
   "pygments_lexer": "ipython3",
   "version": "3.9.12"
  },
  "orig_nbformat": 4
 },
 "nbformat": 4,
 "nbformat_minor": 2
}
