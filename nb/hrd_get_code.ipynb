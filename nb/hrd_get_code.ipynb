{
 "cells": [
  {
   "cell_type": "code",
   "execution_count": 1,
   "metadata": {},
   "outputs": [],
   "source": [
    "import init\n",
    "\n",
    "import os\n",
    "\n",
    "from Class import URL\n",
    "from const import COMMON_CODE_URL\n",
    "from controller.common_code_controller import get_all_common_code"
   ]
  },
  {
   "cell_type": "code",
   "execution_count": 2,
   "metadata": {},
   "outputs": [],
   "source": [
    "opt = {\n",
    "    'authKey':os.getenv('HRD_API_KEY'),\n",
    "    'returnType':'XML',\n",
    "    'srchType':'None',\n",
    "    'outType':'1'\n",
    "}"
   ]
  },
  {
   "cell_type": "code",
   "execution_count": 3,
   "metadata": {},
   "outputs": [],
   "source": [
    "url = URL()\n",
    "\n",
    "url.set_url(COMMON_CODE_URL)\n",
    "url.set_parameter(opt)"
   ]
  },
  {
   "cell_type": "code",
   "execution_count": 4,
   "metadata": {},
   "outputs": [
    {
     "data": {
      "text/html": [
       "<div>\n",
       "<style scoped>\n",
       "    .dataframe tbody tr th:only-of-type {\n",
       "        vertical-align: middle;\n",
       "    }\n",
       "\n",
       "    .dataframe tbody tr th {\n",
       "        vertical-align: top;\n",
       "    }\n",
       "\n",
       "    .dataframe thead th {\n",
       "        text-align: right;\n",
       "    }\n",
       "</style>\n",
       "<table border=\"1\" class=\"dataframe\">\n",
       "  <thead>\n",
       "    <tr style=\"text-align: right;\">\n",
       "      <th></th>\n",
       "      <th>코드값</th>\n",
       "      <th>코드명</th>\n",
       "      <th>구분</th>\n",
       "    </tr>\n",
       "  </thead>\n",
       "  <tbody>\n",
       "    <tr>\n",
       "      <th>0</th>\n",
       "      <td>11</td>\n",
       "      <td>서울</td>\n",
       "      <td>훈련지역 대분류 코드</td>\n",
       "    </tr>\n",
       "    <tr>\n",
       "      <th>1</th>\n",
       "      <td>26</td>\n",
       "      <td>부산</td>\n",
       "      <td>훈련지역 대분류 코드</td>\n",
       "    </tr>\n",
       "    <tr>\n",
       "      <th>2</th>\n",
       "      <td>27</td>\n",
       "      <td>대구</td>\n",
       "      <td>훈련지역 대분류 코드</td>\n",
       "    </tr>\n",
       "    <tr>\n",
       "      <th>3</th>\n",
       "      <td>28</td>\n",
       "      <td>인천</td>\n",
       "      <td>훈련지역 대분류 코드</td>\n",
       "    </tr>\n",
       "    <tr>\n",
       "      <th>4</th>\n",
       "      <td>29</td>\n",
       "      <td>광주</td>\n",
       "      <td>훈련지역 대분류 코드</td>\n",
       "    </tr>\n",
       "    <tr>\n",
       "      <th>...</th>\n",
       "      <td>...</td>\n",
       "      <td>...</td>\n",
       "      <td>...</td>\n",
       "    </tr>\n",
       "    <tr>\n",
       "      <th>274</th>\n",
       "      <td>49130</td>\n",
       "      <td>서귀포시</td>\n",
       "      <td>훈련지역 중분류</td>\n",
       "    </tr>\n",
       "    <tr>\n",
       "      <th>275</th>\n",
       "      <td>49710</td>\n",
       "      <td>북제주군</td>\n",
       "      <td>훈련지역 중분류</td>\n",
       "    </tr>\n",
       "    <tr>\n",
       "      <th>276</th>\n",
       "      <td>49720</td>\n",
       "      <td>남제주군</td>\n",
       "      <td>훈련지역 중분류</td>\n",
       "    </tr>\n",
       "    <tr>\n",
       "      <th>277</th>\n",
       "      <td>50110</td>\n",
       "      <td>제주시</td>\n",
       "      <td>훈련지역 중분류</td>\n",
       "    </tr>\n",
       "    <tr>\n",
       "      <th>278</th>\n",
       "      <td>50130</td>\n",
       "      <td>서귀포시</td>\n",
       "      <td>훈련지역 중분류</td>\n",
       "    </tr>\n",
       "  </tbody>\n",
       "</table>\n",
       "<p>2417 rows × 3 columns</p>\n",
       "</div>"
      ],
      "text/plain": [
       "       코드값    코드명           구분\n",
       "0       11     서울  훈련지역 대분류 코드\n",
       "1       26     부산  훈련지역 대분류 코드\n",
       "2       27     대구  훈련지역 대분류 코드\n",
       "3       28     인천  훈련지역 대분류 코드\n",
       "4       29     광주  훈련지역 대분류 코드\n",
       "..     ...    ...          ...\n",
       "274  49130  서귀포시      훈련지역 중분류\n",
       "275  49710  북제주군      훈련지역 중분류\n",
       "276  49720  남제주군      훈련지역 중분류\n",
       "277  50110    제주시     훈련지역 중분류\n",
       "278  50130   서귀포시     훈련지역 중분류\n",
       "\n",
       "[2417 rows x 3 columns]"
      ]
     },
     "execution_count": 4,
     "metadata": {},
     "output_type": "execute_result"
    }
   ],
   "source": [
    "get_all_common_code(url)"
   ]
  }
 ],
 "metadata": {
  "interpreter": {
   "hash": "89e9e4d100ee396fb86bdfc23fa40e805c5038d98839eff899c219b3daa0a7a9"
  },
  "kernelspec": {
   "display_name": "Python 3.9.12 ('project')",
   "language": "python",
   "name": "python3"
  },
  "language_info": {
   "codemirror_mode": {
    "name": "ipython",
    "version": 3
   },
   "file_extension": ".py",
   "mimetype": "text/x-python",
   "name": "python",
   "nbconvert_exporter": "python",
   "pygments_lexer": "ipython3",
   "version": "3.9.12"
  },
  "orig_nbformat": 4
 },
 "nbformat": 4,
 "nbformat_minor": 2
}
