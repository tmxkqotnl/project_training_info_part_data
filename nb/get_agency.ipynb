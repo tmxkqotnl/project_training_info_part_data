{
 "cells": [
  {
   "cell_type": "code",
   "execution_count": 1,
   "metadata": {},
   "outputs": [],
   "source": [
    "import init\n",
    "import os\n",
    "import pandas as pd"
   ]
  },
  {
   "cell_type": "code",
   "execution_count": 2,
   "metadata": {},
   "outputs": [],
   "source": [
    "from Class import URL\n",
    "from const import TRAINING_FOR_JOB_HUNTER"
   ]
  },
  {
   "cell_type": "code",
   "execution_count": 3,
   "metadata": {},
   "outputs": [],
   "source": [
    "df = pd.read_csv('../files/for_job_hunter/구직자훈련과정.csv')"
   ]
  },
  {
   "cell_type": "code",
   "execution_count": 4,
   "metadata": {},
   "outputs": [
    {
     "data": {
      "text/plain": [
       "Index(['주소', '컨텐츠', '수강비', '등급', '훈련기관 코드', 'NCS 코드', '실제 훈련비', '수강신청 인원',\n",
       "       '정원', '제목', '부제목', '주관부처', '전화번호', '훈련시작일자', '훈련종료일자', '훈련대상', '훈련구분',\n",
       "       '훈련기관ID', '훈련과정ID', '훈련과정 순차'],\n",
       "      dtype='object')"
      ]
     },
     "execution_count": 4,
     "metadata": {},
     "output_type": "execute_result"
    }
   ],
   "source": [
    "df.columns"
   ]
  },
  {
   "cell_type": "code",
   "execution_count": 5,
   "metadata": {},
   "outputs": [
    {
     "data": {
      "text/html": [
       "<div>\n",
       "<style scoped>\n",
       "    .dataframe tbody tr th:only-of-type {\n",
       "        vertical-align: middle;\n",
       "    }\n",
       "\n",
       "    .dataframe tbody tr th {\n",
       "        vertical-align: top;\n",
       "    }\n",
       "\n",
       "    .dataframe thead th {\n",
       "        text-align: right;\n",
       "    }\n",
       "</style>\n",
       "<table border=\"1\" class=\"dataframe\">\n",
       "  <thead>\n",
       "    <tr style=\"text-align: right;\">\n",
       "      <th></th>\n",
       "      <th>훈련과정ID</th>\n",
       "      <th>훈련과정 순차</th>\n",
       "    </tr>\n",
       "  </thead>\n",
       "  <tbody>\n",
       "    <tr>\n",
       "      <th>0</th>\n",
       "      <td>AIG20210000337552</td>\n",
       "      <td>1</td>\n",
       "    </tr>\n",
       "    <tr>\n",
       "      <th>1</th>\n",
       "      <td>AIG20210000346620</td>\n",
       "      <td>9</td>\n",
       "    </tr>\n",
       "    <tr>\n",
       "      <th>2</th>\n",
       "      <td>AIG20210000354067</td>\n",
       "      <td>2</td>\n",
       "    </tr>\n",
       "    <tr>\n",
       "      <th>3</th>\n",
       "      <td>AIG20210000334333</td>\n",
       "      <td>1</td>\n",
       "    </tr>\n",
       "    <tr>\n",
       "      <th>4</th>\n",
       "      <td>AIG20210000362125</td>\n",
       "      <td>2</td>\n",
       "    </tr>\n",
       "    <tr>\n",
       "      <th>...</th>\n",
       "      <td>...</td>\n",
       "      <td>...</td>\n",
       "    </tr>\n",
       "    <tr>\n",
       "      <th>171180</th>\n",
       "      <td>AIG20200000293420</td>\n",
       "      <td>1</td>\n",
       "    </tr>\n",
       "    <tr>\n",
       "      <th>171181</th>\n",
       "      <td>AIG20200000289136</td>\n",
       "      <td>1</td>\n",
       "    </tr>\n",
       "    <tr>\n",
       "      <th>171182</th>\n",
       "      <td>AIG20200000285506</td>\n",
       "      <td>2</td>\n",
       "    </tr>\n",
       "    <tr>\n",
       "      <th>171183</th>\n",
       "      <td>AIG20200000273263</td>\n",
       "      <td>1</td>\n",
       "    </tr>\n",
       "    <tr>\n",
       "      <th>171184</th>\n",
       "      <td>AIG20200000272613</td>\n",
       "      <td>1</td>\n",
       "    </tr>\n",
       "  </tbody>\n",
       "</table>\n",
       "<p>171185 rows × 2 columns</p>\n",
       "</div>"
      ],
      "text/plain": [
       "                   훈련과정ID  훈련과정 순차\n",
       "0       AIG20210000337552        1\n",
       "1       AIG20210000346620        9\n",
       "2       AIG20210000354067        2\n",
       "3       AIG20210000334333        1\n",
       "4       AIG20210000362125        2\n",
       "...                   ...      ...\n",
       "171180  AIG20200000293420        1\n",
       "171181  AIG20200000289136        1\n",
       "171182  AIG20200000285506        2\n",
       "171183  AIG20200000273263        1\n",
       "171184  AIG20200000272613        1\n",
       "\n",
       "[171185 rows x 2 columns]"
      ]
     },
     "execution_count": 5,
     "metadata": {},
     "output_type": "execute_result"
    }
   ],
   "source": [
    "target = df[['훈련과정ID','훈련과정 순차']]\n",
    "target"
   ]
  },
  {
   "cell_type": "code",
   "execution_count": 6,
   "metadata": {},
   "outputs": [
    {
     "name": "stdout",
     "output_type": "stream",
     "text": [
      "None\n",
      "None\n",
      "None\n"
     ]
    }
   ],
   "source": [
    "from controller.url_controller import get_response\n",
    "from bs4 import BeautifulSoup\n",
    "\n",
    "opt = {\n",
    "        'authKey':os.getenv('HRD_API_KEY'),\n",
    "        'returnType':'XML',\n",
    "        'outType':'2',\n",
    "        'srchTrprId':None,\n",
    "        'srchTrprDegr':None,\n",
    "        'srchTorgId':'default',\n",
    "}\n",
    "\n",
    "srchTorgId = ['default','facility_detail','eqnm_detail'] # 기본정보 / 시설정보 / 장비정보\n",
    "\n",
    "for i,n in target.values:\n",
    "    opt['srchTrprId'] = i\n",
    "    opt['srchTrprDegr'] = str(n)\n",
    "\n",
    "    url = URL()\n",
    "    url.set_url(TRAINING_FOR_JOB_HUNTER['agency_info'])\n",
    "    \n",
    "    for j in srchTorgId:\n",
    "        url.set_parameter({'srchTorgId':j})\n",
    "        xml:BeautifulSoup = get_response(url,encoding='euc-kr')\n",
    "        print(xml)\n",
    "        # if j == 'default':\n",
    "        #     {\n",
    "        #         '주소지':xml.find('addr1').text,\n",
    "        #         '상세주소':xml.find('addr2').text,\n",
    "        #         '파일경로':xml.find('filePath').text,\n",
    "        #         '홈페이지_주소':xml.find('hpAddr').text,\n",
    "        #         '훈련기관명':xml.find('inoNm').text,\n",
    "        #         '훈련기관_코드':xml.find('instIno').text,\n",
    "        #         '실제_훈련비':xml.find('instPerTrco').text,\n",
    "        #         'NCS코드':xml.find('ncsCd').text,\n",
    "        #         'NCS명':xml.find('ncsNm').text,\n",
    "        #         'NCS여부':xml.find('ncsYn').text,\n",
    "        #         '비NCS교과_실기시간':xml.find('nonNcsCoursePrcttqTime').text,\n",
    "        #         '비NCS교과_이론시간':xml.find('nonNcsCourseTheoryTime').text,\n",
    "        #         '로고파일명':xml.find('pFileName').text,\n",
    "        #         '정부지원금':xml.find('perTrco').text,\n",
    "        #         '평가등급':xml.find('torgParGrad').text,\n",
    "        #         '총_훈련일수':xml.find('trDcnt').text,\n",
    "        #         '훈련방법코드':xml.find('traingMthCd').text,\n",
    "        #         '담당자명':xml.find('trprChap').text,\n",
    "        #         '담당자_이메일':xml.find('trprChapEmail').text,\n",
    "        #         '담당자_전화번호':xml.find('trprChapTel').text,\n",
    "        #         '훈련과정회차':xml.find('trprDegr').text,\n",
    "        #         '훈련과정구분':xml.find('trprGbn').text,\n",
    "        #         '훈련과정ID':xml.find('trprId').text,\n",
    "        #         '훈련과정명':xml.find('trprNm').text,\n",
    "        #         '주요_훈련과정_구분':xml.find('trprTarget').text,\n",
    "        #         '주요_훈련과정_구분명':xml.find('trprTargetNm').text,\n",
    "        #         '총훈련시간':xml.find('trtm').text,\n",
    "        #         '우편번호':xml.find('zipCd').text\n",
    "                \n",
    "        #     }\n",
    "        # elif j == 'facility_detail':\n",
    "        #     {\n",
    "        #         '훈련분야명':xml.find('govBusiNm').text,\n",
    "        #         '훈련종류':xml.find('torgGbnCd').text,\n",
    "        #         '훈련일수':xml.find('totTraingDyct').text,\n",
    "        #         '훈련시간':xml.find('totTraingTime').text,\n",
    "        #         '수강료':xml.find('totalCrsAt').text,\n",
    "        #         '훈련과정회차':xml.find('trprDegr').text,\n",
    "        #         '훈련과정코드':xml.find('trprId').text,\n",
    "        #         '훈련과정명':xml.find('trprNm').text\n",
    "        #     }\n",
    "        # else:\n",
    "        \n",
    "    break  \n",
    "        \n",
    "        "
   ]
  }
 ],
 "metadata": {
  "interpreter": {
   "hash": "89e9e4d100ee396fb86bdfc23fa40e805c5038d98839eff899c219b3daa0a7a9"
  },
  "kernelspec": {
   "display_name": "Python 3.9.12 ('project')",
   "language": "python",
   "name": "python3"
  },
  "language_info": {
   "codemirror_mode": {
    "name": "ipython",
    "version": 3
   },
   "file_extension": ".py",
   "mimetype": "text/x-python",
   "name": "python",
   "nbconvert_exporter": "python",
   "pygments_lexer": "ipython3",
   "version": "3.9.12"
  },
  "orig_nbformat": 4
 },
 "nbformat": 4,
 "nbformat_minor": 2
}
